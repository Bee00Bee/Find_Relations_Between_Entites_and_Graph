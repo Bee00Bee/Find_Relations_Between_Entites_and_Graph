{
 "cells": [
  {
   "cell_type": "markdown",
   "id": "0d674096",
   "metadata": {},
   "source": [
    "# Find Relationships Between Entities and Plot Diagram"
   ]
  },
  {
   "cell_type": "markdown",
   "id": "777b1c71",
   "metadata": {},
   "source": [
    "To understand the relationship with the extracted entities from a corpus is a challange in the *natural language processing* world. To understand how to find the relationship you can read this notebook to get the idea. In this notebook we use the [spaCy](https://spacy.io/) and [networkx](https://networkx.org/) packages to identify and plot the relationship between the entities. \n",
    "\n",
    "To find the relationships we must go through some steps. The steps are:\n",
    "* find the sentences and chop them \n",
    "* find the tokenized words\n",
    "* find their roles in the sentences\n",
    "* finally find relations. "
   ]
  },
  {
   "cell_type": "code",
   "execution_count": 11,
   "id": "075a8853",
   "metadata": {},
   "outputs": [],
   "source": [
    "import spacy\n",
    "import networkx as nx\n",
    "import matplotlib.pyplot as plt"
   ]
  },
  {
   "cell_type": "markdown",
   "id": "6196dd8e",
   "metadata": {},
   "source": [
    "### Define sets of functions\n",
    "These functions are used to tokenize, find words' roles, and relations in the text.\n"
   ]
  },
  {
   "cell_type": "code",
   "execution_count": 4,
   "id": "1a24eb65",
   "metadata": {},
   "outputs": [],
   "source": [
    "def printToken(token):\n",
    "    print(token.text, token.dep_)"
   ]
  },
  {
   "cell_type": "code",
   "execution_count": 85,
   "id": "7658b4cd",
   "metadata": {},
   "outputs": [],
   "source": [
    "def appendChunk(original, chunk):\n",
    "    return (original + ' ' + chunk)"
   ]
  },
  {
   "cell_type": "code",
   "execution_count": 71,
   "id": "48ae2473",
   "metadata": {},
   "outputs": [],
   "source": [
    "def isRelationCandidate(token):\n",
    "    deps = [\"ROOT\", \"adj\", \"attr\", \"agent\", \"amod\"]\n",
    "    return any(subs in token.dep_ for subs in deps)"
   ]
  },
  {
   "cell_type": "code",
   "execution_count": 7,
   "id": "1317ed00",
   "metadata": {},
   "outputs": [],
   "source": [
    "def isConstructionCandidate(token):\n",
    "    deps = [\"compound\", \"prep\", \"conj\", \"mod\"]\n",
    "    return any(subs in token.dep_ for subs in deps)"
   ]
  },
  {
   "cell_type": "code",
   "execution_count": 90,
   "id": "102c0744",
   "metadata": {},
   "outputs": [],
   "source": [
    "def processSubjectObjectPairs(tokens):\n",
    "    subject = ''\n",
    "    object = ''\n",
    "    relation = ''\n",
    "    subjectConstruction = ''\n",
    "    objectConstruction = ''\n",
    "    for token in tokens:\n",
    "        printToken(token)\n",
    "        if \"punct\" in token.dep_:\n",
    "            continue\n",
    "        if isRelationCandidate(token):\n",
    "            relation = appendChunk(relation, token.lemma_)\n",
    "        if isConstructionCandidate(token):\n",
    "            if subjectConstruction:\n",
    "                subjectConstruction = appendChunk(subjecConstruction, token.text)\n",
    "            if objectConstruction:\n",
    "                objectConstruction = appendChunk(objectConstruction, token.text)\n",
    "        if \"subj\" in token.dep_:\n",
    "            subject = appendChunk(subject, token.text)\n",
    "            subject = appendChunk(subjectConstruction, subject)\n",
    "            subjectConstruction = ''\n",
    "        if \"obj\" in token.dep_:\n",
    "            object = appendChunk(object, token.text)\n",
    "            object = appendChunk(objectConstruction, object)\n",
    "            objectConstruction = ''\n",
    "    #print(subject.strip(),\",\", relation.strip(),\",\", object.strip())\n",
    "    return(subject.strip(), relation.strip(), object.strip())\n",
    "\n",
    "def printGraph(triples):\n",
    "    G = nx.Graph()\n",
    "    for triple in triples:\n",
    "        G.add_node(triple[0])\n",
    "        G.add_node(triple[1])\n",
    "        G.add_node(triple[2])\n",
    "        G.add_edge(triple[0], triple[1])\n",
    "        G.add_edge(triple[1], triple[2])\n",
    "    \n",
    "    pos = nx.spring_layout(G)\n",
    "    plt.figure()\n",
    "    nx.draw(G, pos, edge_color = 'black', width = 1, linewidths = 1, node_size = 500, node_color = 'seagreen', alpha = 0.9,\n",
    "           labels = {node: node for node in G.nodes()})\n",
    "    plt.axis('off')\n",
    "    plt.show"
   ]
  },
  {
   "cell_type": "code",
   "execution_count": 140,
   "id": "66f8a372",
   "metadata": {},
   "outputs": [],
   "source": [
    "nlp = spacy.load(\"en_core_web_sm\")\n",
    "\n",
    "def get_sentences(text, nlp):\n",
    "    doc = nlp(text)\n",
    "    return [sent for sent in doc.sents]"
   ]
  },
  {
   "cell_type": "code",
   "execution_count": 129,
   "id": "d53d6950",
   "metadata": {},
   "outputs": [],
   "source": [
    "text = \"London is the capital and largest city of England and the United Kingdom. Standing on the River \" \\\n",
    "           \"Thames in the south-east of England, at the head of its 50-mile (80 km) estuary leading to \" \\\n",
    "           \"the North Sea, London has been a major settlement for two millennia. \" \\\n",
    "           \"Londinium was founded by the Romans. The City of London, \" \\\n",
    "           \"London's ancient core − an area of just 1.12 square miles (2.9 km2) and colloquially known as \" \\\n",
    "           \"the Square Mile − retains boundaries that follow closely its medieval limits.\" \\\n",
    "           \"The City of Westminster is also an Inner London borough holding city status. \" \\\n",
    "           \"Greater London is governed by the Mayor of London and the London Assembly.\" \\\n",
    "           \"London is located in the southeast of England.\" \\\n",
    "           \"Westminster is located in London.\" \\\n",
    "           \"London is the biggest city in Britain. London has a population of 7,172,036.\"\n",
    "\n",
    "text2 = \"Greater London is governed by the Mayor of London and the London Assembly.\" \\\n",
    "           \"London is located in the southeast of England.\" \\\n",
    "           \"Westminster is located in London.\" \\\n",
    "           \"London is the biggest city in Britain. London has a population of 7,172,036.\""
   ]
  },
  {
   "cell_type": "code",
   "execution_count": 109,
   "id": "31495a4e",
   "metadata": {},
   "outputs": [],
   "source": [
    "def Process_Sentence(sentence, nlp):\n",
    "    tokens = nlp(sentence)\n",
    "    return processSubjectObjectPairs(tokens)"
   ]
  },
  {
   "cell_type": "code",
   "execution_count": 141,
   "id": "6e29b2b6",
   "metadata": {},
   "outputs": [
    {
     "name": "stdout",
     "output_type": "stream",
     "text": [
      "Greater compound\n",
      "London nsubjpass\n",
      "is auxpass\n",
      "governed ROOT\n",
      "by agent\n",
      "the det\n",
      "Mayor pobj\n",
      "of prep\n",
      "London pobj\n",
      "and cc\n",
      "the det\n",
      "London compound\n",
      "Assembly conj\n",
      ". punct\n",
      "London nsubjpass\n",
      "is auxpass\n",
      "located ROOT\n",
      "in prep\n",
      "the det\n",
      "southeast pobj\n",
      "of prep\n",
      "England pobj\n",
      ". punct\n",
      "Westminster nsubjpass\n",
      "is auxpass\n",
      "located ROOT\n",
      "in prep\n",
      "London pobj\n",
      ". punct\n",
      "London nsubj\n",
      "is ROOT\n",
      "the det\n",
      "biggest amod\n",
      "city attr\n",
      "in prep\n",
      "Britain pobj\n",
      ". punct\n",
      "London nsubj\n",
      "has ROOT\n",
      "a det\n",
      "population dobj\n",
      "of prep\n",
      "7,172,036 pobj\n",
      ". punct\n"
     ]
    },
    {
     "data": {
      "image/png": "[encoded data removed]",
      "text/plain": [
       "<Figure size 432x288 with 1 Axes>"
      ]
     },
     "metadata": {},
     "output_type": "display_data"
    }
   ],
   "source": [
    "sentences = get_sentences(text2, nlp)\n",
    "\n",
    "triples = []\n",
    "for sentence in sentences:\n",
    "    triples.append(Process_Sentence(sentence.text, nlp))\n",
    "\n",
    "printGraph(triples)"
   ]
  },
  {
   "cell_type": "code",
   "execution_count": null,
   "id": "ec313e98",
   "metadata": {},
   "outputs": [],
   "source": []
  }
 ],
 "metadata": {
  "kernelspec": {
   "display_name": "Python 3 (ipykernel)",
   "language": "python",
   "name": "python3"
  },
  "language_info": {
   "codemirror_mode": {
    "name": "ipython",
    "version": 3
   },
   "file_extension": ".py",
   "mimetype": "text/x-python",
   "name": "python",
   "nbconvert_exporter": "python",
   "pygments_lexer": "ipython3",
   "version": "3.9.7"
  }
 },
 "nbformat": 4,
 "nbformat_minor": 5
}
